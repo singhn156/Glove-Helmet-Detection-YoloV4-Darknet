{
  "nbformat": 4,
  "nbformat_minor": 0,
  "metadata": {
    "colab": {
      "name": "Convert Image Data into YOLO format",
      "provenance": [],
      "authorship_tag": "ABX9TyOxdw6PP6dyoLD3mxYjiQGz",
      "include_colab_link": true
    },
    "kernelspec": {
      "display_name": "Python 3",
      "name": "python3"
    }
  },
  "cells": [
    {
      "cell_type": "markdown",
      "metadata": {
        "id": "view-in-github",
        "colab_type": "text"
      },
      "source": [
        "<a href=\"https://colab.research.google.com/github/singhn156/Glove-Helmet-Detection-YoloV4-Darknet/blob/main/Convert_Image_Data_into_YOLO_format.ipynb\" target=\"_parent\"><img src=\"https://colab.research.google.com/assets/colab-badge.svg\" alt=\"Open In Colab\"/></a>"
      ]
    },
    {
      "cell_type": "code",
      "metadata": {
        "id": "JA47MssdBAIW",
        "outputId": "da5908f3-f338-4a6f-a496-444cb62689c0",
        "colab": {
          "base_uri": "https://localhost:8080/"
        }
      },
      "source": [
        "#Mount the google drive\n",
        "from google.colab import drive\n",
        "drive.mount('/content/drive')\n"
      ],
      "execution_count": null,
      "outputs": [
        {
          "output_type": "stream",
          "text": [
            "Mounted at /content/drive\n"
          ],
          "name": "stdout"
        }
      ]
    },
    {
      "cell_type": "code",
      "metadata": {
        "id": "oVMKJHnsBWXw"
      },
      "source": [
        "#Import Necessary Libraries\n",
        "import pandas as pd\n",
        "import os\n"
      ],
      "execution_count": null,
      "outputs": []
    },
    {
      "cell_type": "code",
      "metadata": {
        "id": "EROJ-v5VBoup",
        "outputId": "684ccba4-f21e-4ecf-81c2-48dd6c33c759",
        "colab": {
          "base_uri": "https://localhost:8080/",
          "height": 198
        }
      },
      "source": [
        "# Read csv files containing\n",
        "os.chdir('/content/drive/My Drive/YOLO_V4/Datasets_and_Annotations/csv_folder')\n",
        "classes_data = pd.read_csv('class-descriptions-boxable.csv', header=None)\n",
        "classes_data.head()\n"
      ],
      "execution_count": null,
      "outputs": [
        {
          "output_type": "execute_result",
          "data": {
            "text/html": [
              "<div>\n",
              "<style scoped>\n",
              "    .dataframe tbody tr th:only-of-type {\n",
              "        vertical-align: middle;\n",
              "    }\n",
              "\n",
              "    .dataframe tbody tr th {\n",
              "        vertical-align: top;\n",
              "    }\n",
              "\n",
              "    .dataframe thead th {\n",
              "        text-align: right;\n",
              "    }\n",
              "</style>\n",
              "<table border=\"1\" class=\"dataframe\">\n",
              "  <thead>\n",
              "    <tr style=\"text-align: right;\">\n",
              "      <th></th>\n",
              "      <th>0</th>\n",
              "      <th>1</th>\n",
              "    </tr>\n",
              "  </thead>\n",
              "  <tbody>\n",
              "    <tr>\n",
              "      <th>0</th>\n",
              "      <td>/m/011k07</td>\n",
              "      <td>Tortoise</td>\n",
              "    </tr>\n",
              "    <tr>\n",
              "      <th>1</th>\n",
              "      <td>/m/011q46kg</td>\n",
              "      <td>Container</td>\n",
              "    </tr>\n",
              "    <tr>\n",
              "      <th>2</th>\n",
              "      <td>/m/012074</td>\n",
              "      <td>Magpie</td>\n",
              "    </tr>\n",
              "    <tr>\n",
              "      <th>3</th>\n",
              "      <td>/m/0120dh</td>\n",
              "      <td>Sea turtle</td>\n",
              "    </tr>\n",
              "    <tr>\n",
              "      <th>4</th>\n",
              "      <td>/m/01226z</td>\n",
              "      <td>Football</td>\n",
              "    </tr>\n",
              "  </tbody>\n",
              "</table>\n",
              "</div>"
            ],
            "text/plain": [
              "             0           1\n",
              "0    /m/011k07    Tortoise\n",
              "1  /m/011q46kg   Container\n",
              "2    /m/012074      Magpie\n",
              "3    /m/0120dh  Sea turtle\n",
              "4    /m/01226z    Football"
            ]
          },
          "metadata": {
            "tags": []
          },
          "execution_count": 3
        }
      ]
    },
    {
      "cell_type": "code",
      "metadata": {
        "id": "DfTqAhIcxoBL"
      },
      "source": [
        "# Define requried Classes\n",
        "classes = ['Glove', 'Helmet']\n"
      ],
      "execution_count": null,
      "outputs": []
    },
    {
      "cell_type": "code",
      "metadata": {
        "id": "XGxAsT2dx_RB",
        "outputId": "405a4fa8-65d3-41c3-80df-ea8ec665642f",
        "colab": {
          "base_uri": "https://localhost:8080/"
        }
      },
      "source": [
        "# Get the strings corresponding to the class name and store it inside a list called as class_strings\n",
        "class_strings = []\n",
        "for i in classes:\n",
        "    # Extract the first column's elements for matching classes Airplane and Parachute\n",
        "    req_classes = classes_data.loc[classes_data[1] == i]\n",
        "    string = req_classes.iloc[0][0]\n",
        "    print(string)\n",
        "    # Append the strings corresponding to the class name into the list\n",
        "    class_strings.append(string)\n",
        "    \n",
        "print(class_strings)\n"
      ],
      "execution_count": null,
      "outputs": [
        {
          "output_type": "stream",
          "text": [
            "/m/0174n1\n",
            "/m/0zvk5\n",
            "['/m/0174n1', '/m/0zvk5']\n"
          ],
          "name": "stdout"
        }
      ]
    },
    {
      "cell_type": "code",
      "metadata": {
        "id": "XdYFLNZw0zeR",
        "outputId": "0763b18d-332e-4bf6-a53a-d0985ad39c61",
        "colab": {
          "base_uri": "https://localhost:8080/",
          "height": 198
        }
      },
      "source": [
        "\n",
        "# Get only required columns from annotations csv file and get rid of NOT required columns\n",
        "annotation_data = pd.read_csv('train-annotations-bbox.csv',\n",
        "                          usecols=['ImageID',\n",
        "                                   'LabelName',\n",
        "                                   'XMin',\n",
        "                                   'XMax',\n",
        "                                   'YMin',\n",
        "                                   'YMax'])\n",
        "annotation_data.head()\n"
      ],
      "execution_count": null,
      "outputs": [
        {
          "output_type": "execute_result",
          "data": {
            "text/html": [
              "<div>\n",
              "<style scoped>\n",
              "    .dataframe tbody tr th:only-of-type {\n",
              "        vertical-align: middle;\n",
              "    }\n",
              "\n",
              "    .dataframe tbody tr th {\n",
              "        vertical-align: top;\n",
              "    }\n",
              "\n",
              "    .dataframe thead th {\n",
              "        text-align: right;\n",
              "    }\n",
              "</style>\n",
              "<table border=\"1\" class=\"dataframe\">\n",
              "  <thead>\n",
              "    <tr style=\"text-align: right;\">\n",
              "      <th></th>\n",
              "      <th>ImageID</th>\n",
              "      <th>LabelName</th>\n",
              "      <th>XMin</th>\n",
              "      <th>XMax</th>\n",
              "      <th>YMin</th>\n",
              "      <th>YMax</th>\n",
              "    </tr>\n",
              "  </thead>\n",
              "  <tbody>\n",
              "    <tr>\n",
              "      <th>0</th>\n",
              "      <td>000002b66c9c498e</td>\n",
              "      <td>/m/01g317</td>\n",
              "      <td>0.012500</td>\n",
              "      <td>0.195312</td>\n",
              "      <td>0.148438</td>\n",
              "      <td>0.587500</td>\n",
              "    </tr>\n",
              "    <tr>\n",
              "      <th>1</th>\n",
              "      <td>000002b66c9c498e</td>\n",
              "      <td>/m/01g317</td>\n",
              "      <td>0.025000</td>\n",
              "      <td>0.276563</td>\n",
              "      <td>0.714063</td>\n",
              "      <td>0.948438</td>\n",
              "    </tr>\n",
              "    <tr>\n",
              "      <th>2</th>\n",
              "      <td>000002b66c9c498e</td>\n",
              "      <td>/m/01g317</td>\n",
              "      <td>0.151562</td>\n",
              "      <td>0.310937</td>\n",
              "      <td>0.198437</td>\n",
              "      <td>0.590625</td>\n",
              "    </tr>\n",
              "    <tr>\n",
              "      <th>3</th>\n",
              "      <td>000002b66c9c498e</td>\n",
              "      <td>/m/01g317</td>\n",
              "      <td>0.256250</td>\n",
              "      <td>0.429688</td>\n",
              "      <td>0.651563</td>\n",
              "      <td>0.925000</td>\n",
              "    </tr>\n",
              "    <tr>\n",
              "      <th>4</th>\n",
              "      <td>000002b66c9c498e</td>\n",
              "      <td>/m/01g317</td>\n",
              "      <td>0.257812</td>\n",
              "      <td>0.346875</td>\n",
              "      <td>0.235938</td>\n",
              "      <td>0.385938</td>\n",
              "    </tr>\n",
              "  </tbody>\n",
              "</table>\n",
              "</div>"
            ],
            "text/plain": [
              "            ImageID  LabelName      XMin      XMax      YMin      YMax\n",
              "0  000002b66c9c498e  /m/01g317  0.012500  0.195312  0.148438  0.587500\n",
              "1  000002b66c9c498e  /m/01g317  0.025000  0.276563  0.714063  0.948438\n",
              "2  000002b66c9c498e  /m/01g317  0.151562  0.310937  0.198437  0.590625\n",
              "3  000002b66c9c498e  /m/01g317  0.256250  0.429688  0.651563  0.925000\n",
              "4  000002b66c9c498e  /m/01g317  0.257812  0.346875  0.235938  0.385938"
            ]
          },
          "metadata": {
            "tags": []
          },
          "execution_count": 6
        }
      ]
    },
    {
      "cell_type": "code",
      "metadata": {
        "id": "YLc3jflA1E_C",
        "outputId": "c07df16c-a6f5-4858-a824-784848d30ee0",
        "colab": {
          "base_uri": "https://localhost:8080/",
          "height": 198
        }
      },
      "source": [
        "# Get only records with matching classes (LabelName = class_strings)\n",
        "filtered_class_data = annotation_data.loc[annotation_data['LabelName'].isin(class_strings)].copy()\n",
        "filtered_class_data.head()\n",
        "\n"
      ],
      "execution_count": null,
      "outputs": [
        {
          "output_type": "execute_result",
          "data": {
            "text/html": [
              "<div>\n",
              "<style scoped>\n",
              "    .dataframe tbody tr th:only-of-type {\n",
              "        vertical-align: middle;\n",
              "    }\n",
              "\n",
              "    .dataframe tbody tr th {\n",
              "        vertical-align: top;\n",
              "    }\n",
              "\n",
              "    .dataframe thead th {\n",
              "        text-align: right;\n",
              "    }\n",
              "</style>\n",
              "<table border=\"1\" class=\"dataframe\">\n",
              "  <thead>\n",
              "    <tr style=\"text-align: right;\">\n",
              "      <th></th>\n",
              "      <th>ImageID</th>\n",
              "      <th>LabelName</th>\n",
              "      <th>XMin</th>\n",
              "      <th>XMax</th>\n",
              "      <th>YMin</th>\n",
              "      <th>YMax</th>\n",
              "    </tr>\n",
              "  </thead>\n",
              "  <tbody>\n",
              "    <tr>\n",
              "      <th>83</th>\n",
              "      <td>00001bcc92282a38</td>\n",
              "      <td>/m/0zvk5</td>\n",
              "      <td>0.181875</td>\n",
              "      <td>0.376250</td>\n",
              "      <td>0.085366</td>\n",
              "      <td>0.452158</td>\n",
              "    </tr>\n",
              "    <tr>\n",
              "      <th>106</th>\n",
              "      <td>000023aa04ab09ed</td>\n",
              "      <td>/m/0zvk5</td>\n",
              "      <td>0.272727</td>\n",
              "      <td>0.690657</td>\n",
              "      <td>0.000000</td>\n",
              "      <td>0.263462</td>\n",
              "    </tr>\n",
              "    <tr>\n",
              "      <th>2165</th>\n",
              "      <td>000134de87dd044b</td>\n",
              "      <td>/m/0zvk5</td>\n",
              "      <td>0.003125</td>\n",
              "      <td>0.091250</td>\n",
              "      <td>0.000000</td>\n",
              "      <td>0.128518</td>\n",
              "    </tr>\n",
              "    <tr>\n",
              "      <th>2166</th>\n",
              "      <td>000134de87dd044b</td>\n",
              "      <td>/m/0zvk5</td>\n",
              "      <td>0.200625</td>\n",
              "      <td>0.306250</td>\n",
              "      <td>0.000000</td>\n",
              "      <td>0.120075</td>\n",
              "    </tr>\n",
              "    <tr>\n",
              "      <th>2167</th>\n",
              "      <td>000134de87dd044b</td>\n",
              "      <td>/m/0zvk5</td>\n",
              "      <td>0.623125</td>\n",
              "      <td>0.701250</td>\n",
              "      <td>0.365854</td>\n",
              "      <td>0.461538</td>\n",
              "    </tr>\n",
              "  </tbody>\n",
              "</table>\n",
              "</div>"
            ],
            "text/plain": [
              "               ImageID LabelName      XMin      XMax      YMin      YMax\n",
              "83    00001bcc92282a38  /m/0zvk5  0.181875  0.376250  0.085366  0.452158\n",
              "106   000023aa04ab09ed  /m/0zvk5  0.272727  0.690657  0.000000  0.263462\n",
              "2165  000134de87dd044b  /m/0zvk5  0.003125  0.091250  0.000000  0.128518\n",
              "2166  000134de87dd044b  /m/0zvk5  0.200625  0.306250  0.000000  0.120075\n",
              "2167  000134de87dd044b  /m/0zvk5  0.623125  0.701250  0.365854  0.461538"
            ]
          },
          "metadata": {
            "tags": []
          },
          "execution_count": 7
        }
      ]
    },
    {
      "cell_type": "code",
      "metadata": {
        "id": "GmTnrh3n1sfA"
      },
      "source": [
        "# Add new columns that are required for YOLO format\n",
        "filtered_class_data['classNumber'] = ''\n",
        "filtered_class_data['center x'] = ''\n",
        "filtered_class_data['center y'] = ''\n",
        "filtered_class_data['width'] = ''\n",
        "filtered_class_data['height'] = ''\n"
      ],
      "execution_count": null,
      "outputs": []
    },
    {
      "cell_type": "code",
      "metadata": {
        "id": "43dvOIR62RF3"
      },
      "source": [
        "# Iterate through all the class strings and assign a class number according to the order they are appearing in the list\n",
        "# For e.g.0 to Airplane and 1 to Parachute\n",
        "for i in range(len(class_strings)):\n",
        "    # Store the result of this operation into classNumber\n",
        "    filtered_class_data.loc[filtered_class_data['LabelName'] == class_strings[i], 'classNumber'] = i\n",
        "\n",
        "# Calculate center x and center y values\n",
        "filtered_class_data['center x'] = (filtered_class_data['XMax'] + filtered_class_data['XMin']) / 2\n",
        "filtered_class_data['center y'] = (filtered_class_data['YMax'] + filtered_class_data['YMin']) / 2\n",
        "\n",
        "# Calculate width and height values\n",
        "filtered_class_data['width'] = filtered_class_data['XMax'] - filtered_class_data['XMin']\n",
        "filtered_class_data['height'] = filtered_class_data['YMax'] - filtered_class_data['YMin']\n"
      ],
      "execution_count": null,
      "outputs": []
    },
    {
      "cell_type": "code",
      "metadata": {
        "id": "HNOwkAZq8mu8",
        "outputId": "db277422-29ea-40f5-e125-790b3162480c",
        "colab": {
          "background_save": true
        }
      },
      "source": [
        "# Generate the dataframe with YOLO required values \n",
        "YOLO_values = filtered_class_data.loc[:, ['ImageID','classNumber','center x','center y','width','height']].copy()\n",
        "YOLO_values.head()\n"
      ],
      "execution_count": null,
      "outputs": [
        {
          "output_type": "execute_result",
          "data": {
            "text/html": [
              "<div>\n",
              "<style scoped>\n",
              "    .dataframe tbody tr th:only-of-type {\n",
              "        vertical-align: middle;\n",
              "    }\n",
              "\n",
              "    .dataframe tbody tr th {\n",
              "        vertical-align: top;\n",
              "    }\n",
              "\n",
              "    .dataframe thead th {\n",
              "        text-align: right;\n",
              "    }\n",
              "</style>\n",
              "<table border=\"1\" class=\"dataframe\">\n",
              "  <thead>\n",
              "    <tr style=\"text-align: right;\">\n",
              "      <th></th>\n",
              "      <th>ImageID</th>\n",
              "      <th>classNumber</th>\n",
              "      <th>center x</th>\n",
              "      <th>center y</th>\n",
              "      <th>width</th>\n",
              "      <th>height</th>\n",
              "    </tr>\n",
              "  </thead>\n",
              "  <tbody>\n",
              "    <tr>\n",
              "      <th>83</th>\n",
              "      <td>00001bcc92282a38</td>\n",
              "      <td></td>\n",
              "      <td></td>\n",
              "      <td></td>\n",
              "      <td></td>\n",
              "      <td></td>\n",
              "    </tr>\n",
              "    <tr>\n",
              "      <th>106</th>\n",
              "      <td>000023aa04ab09ed</td>\n",
              "      <td></td>\n",
              "      <td></td>\n",
              "      <td></td>\n",
              "      <td></td>\n",
              "      <td></td>\n",
              "    </tr>\n",
              "    <tr>\n",
              "      <th>2165</th>\n",
              "      <td>000134de87dd044b</td>\n",
              "      <td></td>\n",
              "      <td></td>\n",
              "      <td></td>\n",
              "      <td></td>\n",
              "      <td></td>\n",
              "    </tr>\n",
              "    <tr>\n",
              "      <th>2166</th>\n",
              "      <td>000134de87dd044b</td>\n",
              "      <td></td>\n",
              "      <td></td>\n",
              "      <td></td>\n",
              "      <td></td>\n",
              "      <td></td>\n",
              "    </tr>\n",
              "    <tr>\n",
              "      <th>2167</th>\n",
              "      <td>000134de87dd044b</td>\n",
              "      <td></td>\n",
              "      <td></td>\n",
              "      <td></td>\n",
              "      <td></td>\n",
              "      <td></td>\n",
              "    </tr>\n",
              "  </tbody>\n",
              "</table>\n",
              "</div>"
            ],
            "text/plain": [
              "               ImageID classNumber center x center y width height\n",
              "83    00001bcc92282a38                                           \n",
              "106   000023aa04ab09ed                                           \n",
              "2165  000134de87dd044b                                           \n",
              "2166  000134de87dd044b                                           \n",
              "2167  000134de87dd044b                                           "
            ]
          },
          "metadata": {
            "tags": []
          },
          "execution_count": 0
        }
      ]
    },
    {
      "cell_type": "code",
      "metadata": {
        "id": "OjprsHLn8r1R"
      },
      "source": [
        ""
      ],
      "execution_count": null,
      "outputs": []
    }
  ]
}