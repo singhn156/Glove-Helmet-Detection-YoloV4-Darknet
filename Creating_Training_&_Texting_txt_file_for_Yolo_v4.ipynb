{
  "nbformat": 4,
  "nbformat_minor": 0,
  "metadata": {
    "colab": {
      "name": "Creating Training & Texting txt file for Yolo_v4 ",
      "provenance": [],
      "authorship_tag": "ABX9TyNEpHib+/SNrSTsAeTdPd7Q",
      "include_colab_link": true
    },
    "kernelspec": {
      "name": "python3",
      "display_name": "Python 3"
    }
  },
  "cells": [
    {
      "cell_type": "markdown",
      "metadata": {
        "id": "view-in-github",
        "colab_type": "text"
      },
      "source": [
        "<a href=\"https://colab.research.google.com/github/singhn156/Glove-Helmet-Detection-YoloV4-Darknet/blob/main/Creating_Training_%26_Texting_txt_file_for_Yolo_v4.ipynb\" target=\"_parent\"><img src=\"https://colab.research.google.com/assets/colab-badge.svg\" alt=\"Open In Colab\"/></a>"
      ]
    },
    {
      "cell_type": "code",
      "metadata": {
        "id": "yTDvmK0odAqB",
        "outputId": "b56f7fba-84b7-4511-cd29-2cc5902d8f59",
        "colab": {
          "base_uri": "https://localhost:8080/"
        }
      },
      "source": [
        "#Mount the google drive\n",
        "from google.colab import drive\n",
        "drive.mount('/content/drive')\n"
      ],
      "execution_count": null,
      "outputs": [
        {
          "output_type": "stream",
          "text": [
            "Mounted at /content/drive\n"
          ],
          "name": "stdout"
        }
      ]
    },
    {
      "cell_type": "code",
      "metadata": {
        "id": "O9RDENLedswc"
      },
      "source": [
        "# Importing necessary libraries\n",
        "import os\n"
      ],
      "execution_count": null,
      "outputs": []
    },
    {
      "cell_type": "code",
      "metadata": {
        "id": "L9zt3EJ5eYVA"
      },
      "source": [
        "#Create Symbolic Link\n",
        "!ln -s '/content/drive/My Drive/' /currdrive\n"
      ],
      "execution_count": null,
      "outputs": []
    },
    {
      "cell_type": "code",
      "metadata": {
        "id": "bibf5DFfd8po"
      },
      "source": [
        "\n",
        "# Set Image Directory path\n",
        "image_path = '/currdrive/YOLO_V4/darknet/data/Glove_Helmet'\n",
        "os.chdir(image_path)\n"
      ],
      "execution_count": null,
      "outputs": []
    },
    {
      "cell_type": "code",
      "metadata": {
        "id": "VWYsr_PleMUv"
      },
      "source": [
        "#Iterate through each image found in the directory and save the corresponding path to the list called as path_list\n",
        "\n",
        "path_list = []\n",
        "# Go through all the image files in the directory\n",
        "# Fullstop in os.walk('.') means the current directory\n",
        "for current_dir, dirs, files in os.walk('.'):\n",
        "    # Iterating through all the files\n",
        "    for f in files:\n",
        "        # Check if the file extension ends with '.jpg'\n",
        "        if f.endswith('.jpg'):\n",
        "            # Prepare file path to save into train.txt\n",
        "            file_loc = image_path + '/' + f\n",
        "            # Append the path data into list \"path_list\". New line character \\n is used to write the new content in the new line\n",
        "            path_list.append(file_loc + '\\n')\n",
        "\n"
      ],
      "execution_count": null,
      "outputs": []
    },
    {
      "cell_type": "code",
      "metadata": {
        "id": "KjIQe_Ijf6zq"
      },
      "source": [
        "# Divide the data into 80:20 ratio. Get 20% of data from path_list\n",
        "# to write into the test.txt file\n",
        "path_list_test = path_list[:int(len(path_list) * 0.20)]\n",
        "\n"
      ],
      "execution_count": null,
      "outputs": []
    },
    {
      "cell_type": "code",
      "metadata": {
        "id": "0uNE_uSaf8e4"
      },
      "source": [
        "\n",
        "# Delete the same 20% records from the path_list as that 20% data is in path_list_test now\n",
        "path_list = path_list[int(len(path_list) * 0.20):]\n"
      ],
      "execution_count": null,
      "outputs": []
    },
    {
      "cell_type": "code",
      "metadata": {
        "id": "scCQloR7f_us"
      },
      "source": [
        "# Create train.txt file and write 80% of data (lines) inside it.\n",
        "with open('train.txt', 'w') as train:\n",
        "    # Iterate through all the elements in the list\n",
        "    for i in path_list:\n",
        "        # Write the current path at the end of the file\n",
        "        train.write(i)\n"
      ],
      "execution_count": null,
      "outputs": []
    },
    {
      "cell_type": "code",
      "metadata": {
        "id": "2KS8G9ytgE57"
      },
      "source": [
        "# Create test.txt file and write 20% of data (lines) inside it.\n",
        "with open('test.txt', 'w') as test:\n",
        "    # Iterate through all the elements in the list\n",
        "    for i in path_list_test:\n",
        "        # Write the current path at the end of the file\n",
        "        test.write(i)\n"
      ],
      "execution_count": null,
      "outputs": []
    },
    {
      "cell_type": "code",
      "metadata": {
        "id": "r89P8yQDgI6w"
      },
      "source": [
        "# Initialize the counter\n",
        "i = 0\n",
        "\n",
        "# Create classes.names files by reading content from existing classes.txt file\n",
        "with open(image_path + '/' + 'classes.names', 'w') as cls, \\\n",
        "     open(image_path + '/' + 'classes.txt', 'r') as text:\n",
        "\n",
        "    # Iterate through individual lines in classes.txt file and write them into classes.names file\n",
        "    for l in text:\n",
        "        cls.write(l)  \n",
        "        \n",
        "        # Increasing counter\n",
        "        i += 1\n"
      ],
      "execution_count": null,
      "outputs": []
    },
    {
      "cell_type": "code",
      "metadata": {
        "id": "Fgq9a79UgRzI"
      },
      "source": [
        "# Create image_data.data\n",
        "with open(image_path + '/' + 'image_data.data', 'w') as data:\n",
        "    # Write number of classes\n",
        "    data.write('classes = ' + str(i) + '\\n')\n",
        "\n",
        "    # Write fully qualified path of the train.txt file\n",
        "    data.write('train = ' + image_path + '/' + 'train.txt' + '\\n')\n",
        "\n",
        "    # Write fully qualified path of the train.txt file\n",
        "    data.write('valid = ' + image_path + '/' + 'test.txt' + '\\n')\n",
        "\n",
        "    # Write fully qualified path of the classes.names file\n",
        "    data.write('names = ' + image_path + '/' + 'classes.names' + '\\n')\n",
        "\n",
        "    # Specify folder path to save trained model weights\n",
        "    data.write('backup = backup')\n",
        "\n"
      ],
      "execution_count": null,
      "outputs": []
    },
    {
      "cell_type": "code",
      "metadata": {
        "id": "X45TMrBjN18Q"
      },
      "source": [
        ""
      ],
      "execution_count": null,
      "outputs": []
    }
  ]
}