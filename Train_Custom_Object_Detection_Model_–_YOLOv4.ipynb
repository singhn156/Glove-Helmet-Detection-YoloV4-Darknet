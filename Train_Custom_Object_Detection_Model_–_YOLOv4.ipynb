{
  "nbformat": 4,
  "nbformat_minor": 0,
  "metadata": {
    "colab": {
      "name": "Train Custom Object Detection Model – YOLOv4",
      "provenance": [],
      "authorship_tag": "ABX9TyM2V7W1xH6f66MRUqc3OmSN",
      "include_colab_link": true
    },
    "kernelspec": {
      "name": "python3",
      "display_name": "Python 3"
    }
  },
  "cells": [
    {
      "cell_type": "markdown",
      "metadata": {
        "id": "view-in-github",
        "colab_type": "text"
      },
      "source": [
        "<a href=\"https://colab.research.google.com/github/singhn156/Glove-Helmet-Detection-YoloV4-Darknet/blob/main/Train_Custom_Object_Detection_Model_%E2%80%93_YOLOv4.ipynb\" target=\"_parent\"><img src=\"https://colab.research.google.com/assets/colab-badge.svg\" alt=\"Open In Colab\"/></a>"
      ]
    },
    {
      "cell_type": "code",
      "metadata": {
        "id": "jPy0uriMc45I",
        "outputId": "9f5f594f-1802-45df-ae73-39b6f08cd661",
        "colab": {
          "base_uri": "https://localhost:8080/"
        }
      },
      "source": [
        "\n",
        "#Mount the google drive\n",
        "from google.colab import drive\n",
        "drive.mount('/content/drive')\n"
      ],
      "execution_count": null,
      "outputs": [
        {
          "output_type": "stream",
          "text": [
            "Drive already mounted at /content/drive; to attempt to forcibly remount, call drive.mount(\"/content/drive\", force_remount=True).\n"
          ],
          "name": "stdout"
        }
      ]
    },
    {
      "cell_type": "code",
      "metadata": {
        "id": "hywvdZz0dIXo"
      },
      "source": [
        "# Importing necessary libraries\n",
        "import os\n",
        "import shutil\n"
      ],
      "execution_count": null,
      "outputs": []
    },
    {
      "cell_type": "code",
      "metadata": {
        "id": "sl7Nzn8LdZvU"
      },
      "source": [
        "#Create Symbolic Link\n",
        "!ln -s '/content/drive/My Drive/' /currdrive\n"
      ],
      "execution_count": null,
      "outputs": []
    },
    {
      "cell_type": "code",
      "metadata": {
        "id": "RqdQX4rwdapd",
        "outputId": "6e731b4f-7128-4599-e20e-148a2020895c",
        "colab": {
          "base_uri": "https://localhost:8080/",
          "height": 35
        }
      },
      "source": [
        "shutil.move(\"/currdrive/YOLO_V4/Datasets_and_Annotations/Dataset/train/Glove_Helmet\", \"/currdrive/YOLO_V4/darknet/data/\")"
      ],
      "execution_count": null,
      "outputs": [
        {
          "output_type": "execute_result",
          "data": {
            "application/vnd.google.colaboratory.intrinsic+json": {
              "type": "string"
            },
            "text/plain": [
              "'/currdrive/YOLO_V4/darknet/data/Glove_Helmet'"
            ]
          },
          "metadata": {
            "tags": []
          },
          "execution_count": 5
        }
      ]
    },
    {
      "cell_type": "code",
      "metadata": {
        "id": "xYNKbGIThB_l"
      },
      "source": [
        ""
      ],
      "execution_count": null,
      "outputs": []
    }
  ]
}